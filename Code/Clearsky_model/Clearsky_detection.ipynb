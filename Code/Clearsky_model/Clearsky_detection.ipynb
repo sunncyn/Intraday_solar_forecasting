{
 "cells": [
  {
   "cell_type": "code",
   "execution_count": 1,
   "metadata": {},
   "outputs": [],
   "source": [
    "import numpy as np\n",
    "import pandas as pd\n",
    "import matplotlib.pyplot as plt\n",
    "import matplotlib\n",
    "from scipy import spatial, signal\n",
    "import math\n",
    "from pylab import rcParams\n",
    "import os\n",
    "from datetime import datetime, time"
   ]
  },
  {
   "cell_type": "markdown",
   "metadata": {},
   "source": [
    "### Data Prep"
   ]
  },
  {
   "cell_type": "raw",
   "metadata": {},
   "source": [
    "This file is used to select clear sky day\n",
    "\n",
    "Input : csv that contain time series of solar Irradiance\n",
    "Output : csv that contain solar Irradiance (raw and smoothed version) of clear sky day \n",
    "\n",
    "Algorithm\n",
    "\n",
    "1.calculate the reference of clearsky day by iteratively selecting clear day and calculate the clear sky reference\n",
    "2.match clear sky day with the reference using cosine distance\n",
    "3.smoothen the fructuated (selected) clearsky data with choice of bi-directional butterworth lowpass filter or Moving average\n",
    "4.provide the output in csv form and plot the selected (clear sky) day\n",
    "\n",
    "Example\n",
    "raw_df = pd.read_csv('YOUR_DATA.csv', parse_dates = [0]) \n",
    "df = df_formatting(raw_df)  # Format dataframe and clean imputation error bug** (consecutive constant values)\n",
    "clr_df = clear_sky(df, Q = 0.0028, smooth = 'Lowpass', visualize = True, save_fig = False)\n",
    "when Q mean distance threshold (adjustable) (the less Q, the less number of clear sky day output)"
   ]
  },
  {
   "cell_type": "markdown",
   "metadata": {},
   "source": [
    "## Dataprep"
   ]
  },
  {
   "cell_type": "code",
   "execution_count": 2,
   "metadata": {},
   "outputs": [],
   "source": [
    "def df_formatting(df):\n",
    "    '''\n",
    "    this function use to prepare df formatting before using function 'Clear_sky'\n",
    "    Input : raw dataframe (Datetime columns need to be timestamp)\n",
    "    Output : right format dataframe [right columns name and clean the imperfect day]\n",
    "    '''\n",
    "    if set(['Datetime','Solar_irradiance_Wm2']).issubset(df.columns):\n",
    "        date_col = 'Datetime'\n",
    "        I_col = 'Solar_irradiance_Wm2'\n",
    "    else:\n",
    "        date_col = input('Enter the column name that contains Datatime info: ')\n",
    "        I_col = input('Enter the column name that contains Irradiance info: ')\n",
    "    df = df.rename(columns = {date_col:'Datetime', I_col:'I'})\n",
    "    df['time'] = [d.time() for d in df['Datetime']]\n",
    "    df['date'] = [d.date() for d in df['Datetime']]\n",
    "    df.set_index('Datetime',inplace = True)\n",
    "    df = df.between_time('06:00', '18:00') \n",
    "    df.reset_index(inplace = True)\n",
    "    df = df.dropna(subset = ['I'])\n",
    "    df.loc[df['I'] < 0 ,'I']  = 0\n",
    "    #clean the day that miss some data \n",
    "    n_data = df.groupby('date').size().mode()[0] \n",
    "    df = df.groupby('date').filter(lambda x : len(x) == n_data)\n",
    "    n_bug = int(input('[sensor bug checking] Input the threshold of consecutive samples that have the same value: '))\n",
    "    bug_date = list(df[df.groupby('date')['I'].transform(lambda x : abs(x.diff()).rolling(n_bug,center = True).sum()) < 0.5]['date'].unique())\n",
    "    print('A number of days that have imputational error = ', len(bug_date))\n",
    "    df = df.drop(df[df['date'].isin(bug_date)].index)\n",
    "    return df   "
   ]
  },
  {
   "cell_type": "markdown",
   "metadata": {},
   "source": [
    "### Smoothing Filter : \n",
    "<p> the aim is to fit clear sky days with the high resolution (more samples) so we use raw sampling but </p>\n",
    "<p> we don't want high variance data so we smoothen them "
   ]
  },
  {
   "cell_type": "code",
   "execution_count": 3,
   "metadata": {},
   "outputs": [],
   "source": [
    "from scipy.signal import butter, freqz, filtfilt\n",
    "\n",
    "def butter_lowpass(cutoff, fs, order=5):\n",
    "    nyq = 0.5 * fs\n",
    "    normal_cutoff = cutoff / nyq\n",
    "    b, a = butter(order, normal_cutoff, btype='low', analog=False)\n",
    "    return b, a\n",
    "\n",
    "def butter_lowpass_filter(data, cutoff, fs, order=5):\n",
    "    b, a = butter_lowpass(cutoff, fs, order=order)\n",
    "    y = filtfilt(b, a, data)\n",
    "    return y"
   ]
  },
  {
   "cell_type": "markdown",
   "metadata": {},
   "source": [
    "### Visualize The Result : \n",
    "to visualize the specific date"
   ]
  },
  {
   "cell_type": "code",
   "execution_count": 4,
   "metadata": {},
   "outputs": [],
   "source": [
    "def visual_date(list_date, df, col_name = 'I'):\n",
    "    '''\n",
    "    this function use to visualize time series of irradiance in selected day \n",
    "    Input :df = right format dataframe (right columns name and clean the imperfect day) \n",
    "    '''\n",
    "    df = df.groupby('date')[col_name].apply(lambda x : list(x.dropna()))\n",
    "    print('total {} days'.format(len(list_date)))\n",
    "    rcParams['figure.figsize'] = 21, 5\n",
    "    for i in range(math.ceil(len(list_date)/4)):\n",
    "        fig, axes = plt.subplots(1, 4)\n",
    "        for j in range(4):\n",
    "            if i*4+j < len(list_date):\n",
    "                axes[j].plot(df[list_date[i*4+j]])\n",
    "                axes[j].set_title(list_date[i*4+j])"
   ]
  },
  {
   "cell_type": "markdown",
   "metadata": {},
   "source": [
    "### Clear Sky Detection : "
   ]
  },
  {
   "cell_type": "code",
   "execution_count": 5,
   "metadata": {},
   "outputs": [],
   "source": [
    "def clear_sky(df, Q = 0.05, smooth = 'non', visualize = True, save_fig = False):\n",
    "    ## add smoothing option -- enveloping !!\n",
    "    ''' \n",
    "        select n clear sky days from dataframe of the set of solar irradiance\n",
    "    Input : \n",
    "        1. df -> need column name 'Datetime', 'I' ***\n",
    "        2. Q -> cosine distance threshold (the less value the less number of clear sky output)\n",
    "        3. smoothing option (str) (Default = non-smooth) - non, MA, Lowpass \n",
    "    Output :\n",
    "        1. clear sky dataframe with has 1.Datetime, 2.I, 3.I_smooth\n",
    "    '''\n",
    "    \n",
    "    # define smoothing option\n",
    "    if smooth == 'non':        \n",
    "        col = 'I'\n",
    "    elif smooth == 'MA':\n",
    "        col = 'I_smooth'\n",
    "        params = int(input('Enter size of window (recommend = 15): '))\n",
    "        df['I_smooth'] = df.groupby('date')['I'].transform(lambda x : x.rolling(params, center = True).mean())\n",
    "    elif smooth == 'Lowpass': # need to filter out negative I \n",
    "        col = 'I_smooth'\n",
    "        params = int(input('Enter ratio between cut-off frequency and sampling rate (recommend between 75 to 100 for high sampling rate): '))\n",
    "        # identify smoothing parameter\n",
    "        order = 6\n",
    "        interval = df['Datetime'].diff().median().seconds\n",
    "        fs = 1/(interval)  # sample rate, Hz\n",
    "        cutoff = 1/(interval*params)   # desired cutoff frequency of the filter, Hz\n",
    "        data = np.array(df['I'])\n",
    "        y = butter_lowpass_filter(data, cutoff, fs, order)\n",
    "        y = [i if i>= 0 else 0 for i in y] # clean out negative I \n",
    "        df['I_smooth'] = y\n",
    "    else :\n",
    "        raise ValueError()\n",
    "        \n",
    "    # iteratively calculate reference I\n",
    "    I_ref = df.groupby('time')['I'].apply(lambda x : x.mean()).dropna()\n",
    "    df_ref = df.copy()\n",
    "    for i in range(10): \n",
    "        feature_df = pd.DataFrame(df_ref.dropna(subset = ['I']).groupby('date')['I']\\\n",
    "                          .apply(lambda x : spatial.distance.cosine(x, I_ref)))\n",
    "        feature_df.columns = ['cos_dis']\n",
    "        feature_df.reset_index(inplace = True)\n",
    "        select_date = feature_df[feature_df['cos_dis'] < feature_df['cos_dis'].quantile(0.50) ]['date'].to_list()\n",
    "        df_ref = df_ref.loc[df_ref['date'].isin(select_date)]\n",
    "        if len(select_date) <100:\n",
    "            break\n",
    "        I_ref = df_ref.groupby('time')['I'].apply(lambda x : x.mean()).dropna()\n",
    "    \n",
    "    # Smoothen I_ref\n",
    "    cutoff = 1/(interval*50)\n",
    "    I_ref_lp = butter_lowpass_filter(I_ref, cutoff, fs, order)\n",
    "    I_ref_lp = [i if i>= 0 else 0 for i in I_ref_lp]\n",
    "    feature_df = pd.DataFrame(df_ref.dropna(subset = ['I']).groupby('date')['I']\\\n",
    "                          .apply(lambda x : spatial.distance.cosine(x, I_ref_lp)))\n",
    "    feature_df.columns = ['cos_dis']\n",
    "    feature_df.reset_index(inplace = True)\n",
    "    \n",
    "    # select clearskyday\n",
    "    select_date = feature_df[feature_df['cos_dis'] < Q ]['date'].to_list() \n",
    "    clr_df = df.loc[df['date'].isin(select_date)]\n",
    "    \n",
    "    # adjust early morning and late evening error from filter\n",
    "    clr_df.loc[clr_df['time'] < time(7,0) , 'I_smooth'] = clr_df['I'] \n",
    "    clr_df.loc[clr_df['time'] > time(17,0) , 'I_smooth'] = clr_df['I']\n",
    "    clr_df.reset_index(inplace = True, drop = True)\n",
    "    \n",
    "\n",
    "    if visualize:\n",
    "        rcParams['figure.figsize'] = 21, 5\n",
    "        print('total {} days'.format(len(select_date)))\n",
    "        clr_df_raw = clr_df.groupby('date')['I'].apply(lambda x : list(x.dropna()))\n",
    "        clr_date = clr_df.groupby('date')['Datetime'].apply(lambda x : list(x))\n",
    "        ymax = clr_df['I'].max()\n",
    "        if smooth != 'non':\n",
    "            clr_df_smooth = clr_df.groupby('date')['I_smooth'].apply(lambda x : list(x.dropna()))\n",
    "        for i in range(math.ceil(len(select_date)/4)):\n",
    "            fig, axes = plt.subplots(1, 4)\n",
    "            if smooth != 'non':\n",
    "                for j in range(4):\n",
    "                    if i*4+j < len(select_date):\n",
    "                        axes[j].plot(pd.to_datetime(clr_date[select_date[i*4+j]]),clr_df_raw[select_date[i*4+j]],alpha = 0.4)\n",
    "                        axes[j].plot(pd.to_datetime(clr_date[select_date[i*4+j]]),clr_df_smooth[select_date[i*4+j]])         \n",
    "                        axes[j].xaxis.set_major_formatter(matplotlib.dates.DateFormatter('%H:%M'))\n",
    "                        axes[j].set_ylim(-50,ymax+100)\n",
    "                        axes[j].tick_params(axis = 'y',labelsize = 13.5)\n",
    "                        axes[j].tick_params(axis = 'x',labelsize = 12)\n",
    "                        axes[j].set_title(select_date[i*4+j], fontsize = 15)\n",
    "            else:\n",
    "                for j in range(4):\n",
    "                    if i*4+j < len(select_date):\n",
    "                        axes[j].plot(pd.to_datetime(clr_date[select_date[i*4+j]]),clr_df_raw[select_date[i*4+j]])\n",
    "                        axes[j].xaxis.set_major_formatter(matplotlib.dates.DateFormatter('%H:%M'))\n",
    "                        axes[j].set_ylim(-50,ymax+100)\n",
    "                        axes[j].set_title(select_date[i*4+j], fontsize = 15)  \n",
    "            if save_fig:\n",
    "                if i == 0 :\n",
    "                    name = input('Enter name of the power plant: ')\n",
    "                plt.savefig(name+'_{}.eps'.format(i+1), format = 'eps')\n",
    "    return clr_df.loc[:,['Datetime','I','I_smooth']]"
   ]
  }
 ],
 "metadata": {
  "kernelspec": {
   "display_name": "Python 3",
   "language": "python",
   "name": "python3"
  },
  "language_info": {
   "codemirror_mode": {
    "name": "ipython",
    "version": 3
   },
   "file_extension": ".py",
   "mimetype": "text/x-python",
   "name": "python",
   "nbconvert_exporter": "python",
   "pygments_lexer": "ipython3",
   "version": "3.7.5"
  }
 },
 "nbformat": 4,
 "nbformat_minor": 2
}
